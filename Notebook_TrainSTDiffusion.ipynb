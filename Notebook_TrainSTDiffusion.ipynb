{
 "cells": [
  {
   "cell_type": "code",
   "execution_count": 1,
   "metadata": {},
   "outputs": [],
   "source": [
    "import numpy as np\n",
    "import pandas as pd\n",
    "\n",
    "\n",
    "import torch\n",
    "from torch.nn.utils import clip_grad_norm_\n",
    "from torch.utils.data import Dataset, DataLoader\n",
    "\n",
    "from utils import load_test_data, visualize_test_region, generate_training_samples\n",
    "from dataset import STDataset\n",
    "from baseline import RandomRegionBaseline, TissueSpecificRandomRegionBaseline\n",
    "from evaluate import Evaluator\n",
    "\n",
    "from parameter import create_args\n",
    "from models.common import get_linear_scheduler\n",
    "from models.vae_gaussian import GaussianVAE\n",
    "from models.vae_flow import FlowVAE\n"
   ]
  },
  {
   "cell_type": "code",
   "execution_count": 2,
   "metadata": {},
   "outputs": [
    {
     "name": "stdout",
     "output_type": "stream",
     "text": [
      "Seeding all randomness with seed=2024\n"
     ]
    }
   ],
   "source": [
    "training_samples = generate_training_samples(num_samples_per_slice=3)"
   ]
  },
  {
   "cell_type": "code",
   "execution_count": 3,
   "metadata": {},
   "outputs": [],
   "source": [
    "dataset = STDataset(training_samples)"
   ]
  },
  {
   "cell_type": "code",
   "execution_count": 4,
   "metadata": {},
   "outputs": [],
   "source": [
    "args = create_args()"
   ]
  },
  {
   "cell_type": "code",
   "execution_count": 5,
   "metadata": {},
   "outputs": [],
   "source": [
    "if args.model == 'gaussian':\n",
    "    model = GaussianVAE(args).to(args.device)\n",
    "elif args.model == 'flow':\n",
    "    model = FlowVAE(args).to(args.device)"
   ]
  },
  {
   "cell_type": "code",
   "execution_count": 6,
   "metadata": {},
   "outputs": [
    {
     "data": {
      "text/plain": [
       "GaussianVAE(\n",
       "  (encoder): PointNetEncoder(\n",
       "    (conv1): Conv1d(376, 128, kernel_size=(1,), stride=(1,))\n",
       "    (conv2): Conv1d(128, 128, kernel_size=(1,), stride=(1,))\n",
       "    (conv3): Conv1d(128, 256, kernel_size=(1,), stride=(1,))\n",
       "    (conv4): Conv1d(256, 512, kernel_size=(1,), stride=(1,))\n",
       "    (bn1): BatchNorm1d(128, eps=1e-05, momentum=0.1, affine=True, track_running_stats=True)\n",
       "    (bn2): BatchNorm1d(128, eps=1e-05, momentum=0.1, affine=True, track_running_stats=True)\n",
       "    (bn3): BatchNorm1d(256, eps=1e-05, momentum=0.1, affine=True, track_running_stats=True)\n",
       "    (bn4): BatchNorm1d(512, eps=1e-05, momentum=0.1, affine=True, track_running_stats=True)\n",
       "    (fc1_m): Linear(in_features=512, out_features=256, bias=True)\n",
       "    (fc2_m): Linear(in_features=256, out_features=128, bias=True)\n",
       "    (fc3_m): Linear(in_features=128, out_features=256, bias=True)\n",
       "    (fc_bn1_m): BatchNorm1d(256, eps=1e-05, momentum=0.1, affine=True, track_running_stats=True)\n",
       "    (fc_bn2_m): BatchNorm1d(128, eps=1e-05, momentum=0.1, affine=True, track_running_stats=True)\n",
       "    (fc1_v): Linear(in_features=512, out_features=256, bias=True)\n",
       "    (fc2_v): Linear(in_features=256, out_features=128, bias=True)\n",
       "    (fc3_v): Linear(in_features=128, out_features=256, bias=True)\n",
       "    (fc_bn1_v): BatchNorm1d(256, eps=1e-05, momentum=0.1, affine=True, track_running_stats=True)\n",
       "    (fc_bn2_v): BatchNorm1d(128, eps=1e-05, momentum=0.1, affine=True, track_running_stats=True)\n",
       "  )\n",
       "  (diffusion): DiffusionPoint(\n",
       "    (net): PointwiseNet(\n",
       "      (layers): ModuleList(\n",
       "        (0): ConcatSquashLinear(\n",
       "          (_layer): Linear(in_features=376, out_features=128, bias=True)\n",
       "          (_hyper_bias): Linear(in_features=259, out_features=128, bias=False)\n",
       "          (_hyper_gate): Linear(in_features=259, out_features=128, bias=True)\n",
       "        )\n",
       "        (1): ConcatSquashLinear(\n",
       "          (_layer): Linear(in_features=128, out_features=256, bias=True)\n",
       "          (_hyper_bias): Linear(in_features=259, out_features=256, bias=False)\n",
       "          (_hyper_gate): Linear(in_features=259, out_features=256, bias=True)\n",
       "        )\n",
       "        (2): ConcatSquashLinear(\n",
       "          (_layer): Linear(in_features=256, out_features=512, bias=True)\n",
       "          (_hyper_bias): Linear(in_features=259, out_features=512, bias=False)\n",
       "          (_hyper_gate): Linear(in_features=259, out_features=512, bias=True)\n",
       "        )\n",
       "        (3): ConcatSquashLinear(\n",
       "          (_layer): Linear(in_features=512, out_features=256, bias=True)\n",
       "          (_hyper_bias): Linear(in_features=259, out_features=256, bias=False)\n",
       "          (_hyper_gate): Linear(in_features=259, out_features=256, bias=True)\n",
       "        )\n",
       "        (4): ConcatSquashLinear(\n",
       "          (_layer): Linear(in_features=256, out_features=128, bias=True)\n",
       "          (_hyper_bias): Linear(in_features=259, out_features=128, bias=False)\n",
       "          (_hyper_gate): Linear(in_features=259, out_features=128, bias=True)\n",
       "        )\n",
       "        (5): ConcatSquashLinear(\n",
       "          (_layer): Linear(in_features=128, out_features=376, bias=True)\n",
       "          (_hyper_bias): Linear(in_features=259, out_features=376, bias=False)\n",
       "          (_hyper_gate): Linear(in_features=259, out_features=376, bias=True)\n",
       "        )\n",
       "      )\n",
       "    )\n",
       "    (var_sched): VarianceSchedule()\n",
       "  )\n",
       ")"
      ]
     },
     "execution_count": 6,
     "metadata": {},
     "output_type": "execute_result"
    }
   ],
   "source": [
    "model"
   ]
  },
  {
   "cell_type": "code",
   "execution_count": 7,
   "metadata": {},
   "outputs": [],
   "source": [
    "# Optimizer and scheduler\n",
    "optimizer = torch.optim.Adam(model.parameters(), \n",
    "    lr=args.lr, \n",
    "    weight_decay=args.weight_decay\n",
    ")\n",
    "scheduler = get_linear_scheduler(\n",
    "    optimizer,\n",
    "    start_epoch=args.sched_start_epoch,\n",
    "    end_epoch=args.sched_end_epoch,\n",
    "    start_lr=args.lr,\n",
    "    end_lr=args.end_lr\n",
    ")"
   ]
  },
  {
   "cell_type": "code",
   "execution_count": 8,
   "metadata": {},
   "outputs": [
    {
     "name": "stdout",
     "output_type": "stream",
     "text": [
      "torch.Size([3, 50, 2]) torch.Size([3, 50, 374])\n"
     ]
    }
   ],
   "source": [
    "# Define a DataLoader to handle batching\n",
    "dataloader = DataLoader(dataset, batch_size=10, shuffle=True, num_workers=4)\n",
    "\n",
    "# Example of iterating over the DataLoader\n",
    "for batch in dataloader:\n",
    "    positions = batch['positions']\n",
    "    expressions = batch['expressions']\n",
    "    metadata = batch['metadata']\n",
    "    \n",
    "    # Use the positions, expressions for model training\n",
    "    # The metadata could be used for logging, tracking, or conditioning if needed\n",
    "    print(positions.shape, expressions.shape)\n",
    "    \n",
    "    x = torch.cat((positions, expressions), dim=2).to(args.device)\n",
    "    \n",
    "    # Reset grad and model state\n",
    "    optimizer.zero_grad()\n",
    "    model.train()\n",
    "    \n",
    "    loss = model.get_loss(x)\n",
    "\n",
    "    # Backward and optimize\n",
    "    loss.backward()\n",
    "    orig_grad_norm = clip_grad_norm_(model.parameters(), args.max_grad_norm)\n",
    "    optimizer.step()\n",
    "    scheduler.step()"
   ]
  },
  {
   "cell_type": "code",
   "execution_count": 9,
   "metadata": {},
   "outputs": [
    {
     "data": {
      "text/plain": [
       "tensor(60033.6172, device='cuda:0', grad_fn=<AddBackward0>)"
      ]
     },
     "execution_count": 9,
     "metadata": {},
     "output_type": "execute_result"
    }
   ],
   "source": [
    "loss"
   ]
  },
  {
   "cell_type": "code",
   "execution_count": null,
   "metadata": {},
   "outputs": [],
   "source": []
  }
 ],
 "metadata": {
  "kernelspec": {
   "display_name": "py38",
   "language": "python",
   "name": "python3"
  },
  "language_info": {
   "codemirror_mode": {
    "name": "ipython",
    "version": 3
   },
   "file_extension": ".py",
   "mimetype": "text/x-python",
   "name": "python",
   "nbconvert_exporter": "python",
   "pygments_lexer": "ipython3",
   "version": "3.8.0"
  }
 },
 "nbformat": 4,
 "nbformat_minor": 2
}
