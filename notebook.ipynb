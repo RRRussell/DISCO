{
 "cells": [
  {
   "cell_type": "code",
   "execution_count": null,
   "metadata": {},
   "outputs": [],
   "source": [
    "from PIL import Image\n",
    "import numpy as np\n",
    "\n",
    "# 打开图像\n",
    "image_path = '/home/zihend1/Diffusion/Conditional_Diffusion_MNIST/data/diffusion_outputs10/image_ep0_w0.0.png'\n",
    "image = Image.open(image_path)\n",
    "\n",
    "# 将图像转换为numpy数组\n",
    "image_array = np.array(image)\n",
    "\n",
    "# 计算最小值和最大值\n",
    "min_value = np.min(image_array)\n",
    "max_value = np.max(image_array)\n",
    "\n",
    "print(f\"图像中的最小值: {min_value}\")\n",
    "print(f\"图像中的最大值: {max_value}\")\n"
   ]
  }
 ],
 "metadata": {
  "language_info": {
   "name": "python"
  }
 },
 "nbformat": 4,
 "nbformat_minor": 2
}
