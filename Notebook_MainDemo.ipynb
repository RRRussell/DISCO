{
 "cells": [
  {
   "cell_type": "code",
   "execution_count": 1,
   "metadata": {},
   "outputs": [],
   "source": [
    "import pandas as pd\n",
    "\n",
    "from utils import load_test_data, visualize_test_region, generate_training_samples\n",
    "from baseline import RandomRegionBaseline\n",
    "from evaluate import Evaluator"
   ]
  },
  {
   "cell_type": "code",
   "execution_count": 7,
   "metadata": {},
   "outputs": [
    {
     "name": "stdout",
     "output_type": "stream",
     "text": [
      "Seeding all randomness with seed=2024\n"
     ]
    }
   ],
   "source": [
    "training_samples = generate_training_samples(num_samples_per_slice=100, minimum_cell=40)"
   ]
  },
  {
   "cell_type": "code",
   "execution_count": null,
   "metadata": {},
   "outputs": [],
   "source": []
  },
  {
   "cell_type": "code",
   "execution_count": null,
   "metadata": {},
   "outputs": [],
   "source": []
  },
  {
   "cell_type": "code",
   "execution_count": null,
   "metadata": {},
   "outputs": [],
   "source": []
  },
  {
   "cell_type": "code",
   "execution_count": null,
   "metadata": {},
   "outputs": [],
   "source": [
    "all_test_items = load_test_data()"
   ]
  },
  {
   "cell_type": "code",
   "execution_count": null,
   "metadata": {},
   "outputs": [],
   "source": [
    "for i, test_item in enumerate(all_test_items):\n",
    "    print(f\"Test Area {i+1}:\")\n",
    "    print(f\"  Min X: {test_item.test_area.hole_min_x}\")\n",
    "    print(f\"  Max X: {test_item.test_area.hole_max_x}\")\n",
    "    print(f\"  Min Y: {test_item.test_area.hole_min_y}\")\n",
    "    print(f\"  Max Y: {test_item.test_area.hole_max_y}\")\n",
    "    print(f\"  Dominant Tissue: {test_item.test_area.dominant_tissue}\")\n",
    "    print(f\"  Number of cells in ground truth: {len(test_item.ground_truth.hole_cells)}\")\n",
    "    print(f\"  Number of cells in adata after masking: {test_item.adata.shape[0]}\")\n",
    "    print(f\"  Gene expression shape: {test_item.ground_truth.gene_expression.shape}\")\n",
    "    \n",
    "    print(\"  Tissue Percentages in Ground Truth:\")\n",
    "    for tissue, percentage in test_item.ground_truth.tissue_percentages.items():\n",
    "        print(f\"    {tissue}: {percentage:.2%}\")\n",
    "        \n",
    "    break\n",
    "        "
   ]
  },
  {
   "cell_type": "code",
   "execution_count": null,
   "metadata": {},
   "outputs": [],
   "source": [
    "visualize_test_region(pd.DataFrame(test_item.adata.obs), test_item.test_area, title=f'Test Region {i+1}')"
   ]
  },
  {
   "cell_type": "code",
   "execution_count": null,
   "metadata": {},
   "outputs": [],
   "source": [
    "# Apply RandomRegionBaseline\n",
    "baseline = RandomRegionBaseline(test_item.adata, test_item.test_area)\n",
    "pred_coords, pred_gene_expressions = baseline.fill_region()"
   ]
  },
  {
   "cell_type": "code",
   "execution_count": null,
   "metadata": {},
   "outputs": [],
   "source": [
    "# Evaluate predictions\n",
    "true_coords = test_item.ground_truth.hole_cells[['center_x', 'center_y']].values\n",
    "true_gene_expressions = test_item.ground_truth.gene_expression\n",
    "\n",
    "mse, f1, cosine_sim = Evaluator.evaluate_expression(true_coords, true_gene_expressions, pred_coords, pred_gene_expressions)\n",
    "chamfer_dist = Evaluator.chamfer_distance(true_coords, pred_coords)\n",
    "emd = Evaluator.calculate_emd(true_coords, pred_coords)\n",
    "\n",
    "print(f\"  Evaluation Metrics for Random Region Baseline:\")\n",
    "print(f\"    MSE: {mse}\")\n",
    "print(f\"    F1 Score: {f1}\")\n",
    "print(f\"    Cosine Similarity: {cosine_sim}\")\n",
    "print(f\"    Chamfer Distance: {chamfer_dist}\")\n",
    "print(f\"    EMD: {emd}\")"
   ]
  },
  {
   "cell_type": "code",
   "execution_count": null,
   "metadata": {},
   "outputs": [],
   "source": [
    "# Visualize test region with generated coordinates\n",
    "visualize_test_region(pd.DataFrame(test_item.adata.obs), test_item.test_area, title=f'Test Region {i+1}', new_coords=pred_coords)"
   ]
  },
  {
   "cell_type": "code",
   "execution_count": null,
   "metadata": {},
   "outputs": [],
   "source": []
  },
  {
   "cell_type": "code",
   "execution_count": null,
   "metadata": {},
   "outputs": [],
   "source": []
  }
 ],
 "metadata": {
  "kernelspec": {
   "display_name": "py38",
   "language": "python",
   "name": "python3"
  },
  "language_info": {
   "codemirror_mode": {
    "name": "ipython",
    "version": 3
   },
   "file_extension": ".py",
   "mimetype": "text/x-python",
   "name": "python",
   "nbconvert_exporter": "python",
   "pygments_lexer": "ipython3",
   "version": "3.8.0"
  }
 },
 "nbformat": 4,
 "nbformat_minor": 2
}
